{
 "cells": [
  {
   "cell_type": "code",
   "execution_count": null,
   "metadata": {},
   "outputs": [],
   "source": [
    "# import the inference-sdk\n",
    "from inference_sdk import InferenceHTTPClient\n",
    "\n",
    "# initialize the client\n",
    "CLIENT = InferenceHTTPClient(\n",
    "    api_url=\"https://serverless.roboflow.com\",\n",
    "    api_key=\"zFi7uXEd69xEQlaRyoqd\"\n",
    ")\n",
    "\n",
    "# infer on a local image\n",
    "result = CLIENT.infer(\"YOUR_IMAGE.jpg\", model_id=\"vegetables-detection-ryup0-b08kl/1\")"
   ]
  }
 ],
 "metadata": {
  "kernelspec": {
   "display_name": "venv",
   "language": "python",
   "name": "python3"
  },
  "language_info": {
   "codemirror_mode": {
    "name": "ipython",
    "version": 3
   },
   "file_extension": ".py",
   "mimetype": "text/x-python",
   "name": "python",
   "nbconvert_exporter": "python",
   "pygments_lexer": "ipython3",
   "version": "3.12.4"
  }
 },
 "nbformat": 4,
 "nbformat_minor": 2
}
